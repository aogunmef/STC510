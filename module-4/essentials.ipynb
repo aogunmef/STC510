{
 "cells": [
  {
   "cell_type": "code",
   "execution_count": 36,
   "metadata": {},
   "outputs": [],
   "source": [
    "from selenium import webdriver\n",
    "from selenium.webdriver.common.by import By\n",
    "from time import sleep\n",
    "import config\n",
    "from bs4 import BeautifulSoup\n",
    "import pandas as pd"
   ]
  },
  {
   "cell_type": "code",
   "execution_count": 20,
   "metadata": {},
   "outputs": [
    {
     "name": "stderr",
     "output_type": "stream",
     "text": [
      "C:\\Users\\deolu\\AppData\\Local\\Temp\\ipykernel_14652\\3333306798.py:1: DeprecationWarning: executable_path has been deprecated, please pass in a Service object\n",
      "  driver = webdriver.Chrome(executable_path=config.CHROMELOC)\n"
     ]
    }
   ],
   "source": [
    "driver = webdriver.Chrome(executable_path=config.CHROMELOC)"
   ]
  },
  {
   "cell_type": "code",
   "execution_count": 21,
   "metadata": {},
   "outputs": [],
   "source": [
    "driver.get(\"https://www.linkedin.com/\")"
   ]
  },
  {
   "cell_type": "code",
   "execution_count": 22,
   "metadata": {},
   "outputs": [],
   "source": [
    "sendUsername = driver.find_element(\"id\",'session_key').send_keys(config.EMAIL)"
   ]
  },
  {
   "cell_type": "code",
   "execution_count": 23,
   "metadata": {},
   "outputs": [],
   "source": [
    "sendPassword = driver.find_element(\"id\",\"session_password\").send_keys(config.PASSWORD)"
   ]
  },
  {
   "cell_type": "code",
   "execution_count": 24,
   "metadata": {},
   "outputs": [],
   "source": [
    "driver.find_element(By.CLASS_NAME, \"sign-in-form__submit-button\").click()"
   ]
  },
  {
   "cell_type": "code",
   "execution_count": 25,
   "metadata": {},
   "outputs": [],
   "source": [
    "driver.get(\"https://www.linkedin.com/\")"
   ]
  },
  {
   "cell_type": "code",
   "execution_count": 37,
   "metadata": {},
   "outputs": [],
   "source": [
    "\n",
    "i = 1\n",
    "queries = [\"Tech\", \"Technology\", \"technology\", \"Green\", \"green\", \"Sustainability\", \"sustainability\", \"sustainable\"]\n",
    "windowHeight = driver.execute_script(\"return window.screen.height;\")\n",
    "while True:\n",
    "    content = []\n",
    "    driver.execute_script(\"window.scrollTo(0, {screen_height}*{i});\".format(screen_height=windowHeight, i=i))  \n",
    "    i += 1\n",
    "    sleep(2)\n",
    "    scroll_height = driver.execute_script(\"return document.body.scrollHeight;\")  \n",
    "    if (windowHeight) * i > scroll_height:\n",
    "        break\n",
    "    soup = BeautifulSoup(driver.page_source, \"html.parser\")\n",
    "    descriptions = soup.find_all(\"span\", {\"dir\": \"ltr\"})\n",
    "    for text in descriptions:\n",
    "        if any(query in text.text for query in queries):\n",
    "            content.append(text.text)\n",
    "    pd.DataFrame(content, columns=[\"content\"]).to_csv(\"output.csv\")\n",
    "    \n",
    "\n"
   ]
  }
 ],
 "metadata": {
  "kernelspec": {
   "display_name": ".venv",
   "language": "python",
   "name": "python3"
  },
  "language_info": {
   "codemirror_mode": {
    "name": "ipython",
    "version": 3
   },
   "file_extension": ".py",
   "mimetype": "text/x-python",
   "name": "python",
   "nbconvert_exporter": "python",
   "pygments_lexer": "ipython3",
   "version": "3.10.1"
  },
  "orig_nbformat": 4,
  "vscode": {
   "interpreter": {
    "hash": "868cd44cba082c7532b187f50c3e99f57881545b38974f3fe82673312c7f1a4a"
   }
  }
 },
 "nbformat": 4,
 "nbformat_minor": 2
}
